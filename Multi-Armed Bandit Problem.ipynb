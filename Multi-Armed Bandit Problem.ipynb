{
 "cells": [
  {
   "cell_type": "code",
   "execution_count": 19,
   "id": "ce8538b9",
   "metadata": {},
   "outputs": [],
   "source": [
    "import numpy as np\n",
    "\n",
    "def pull_bandit_arm(bandits, bandit_number):\n",
    "  \"\"\"Pull arm in position bandit_number and return the obtained reward.\"\"\"\n",
    "  result = np.random.uniform()\n",
    "  return int(result <= bandits[bandit_number])"
   ]
  },
  {
   "cell_type": "code",
   "execution_count": 20,
   "id": "abcc679d",
   "metadata": {},
   "outputs": [],
   "source": [
    "import numpy as np\n",
    "\n",
    "def take_epsilon_greedy_action(epsilon, average_rewards):\n",
    "    \"\"\"Take random action with probability epsilon, else take best action.\"\"\"\n",
    "    result = np.random.uniform()\n",
    "    if result < epsilon:\n",
    "        return np.random.randint(0, len(average_rewards))  # Random action\n",
    "    else:\n",
    "        return np.argmax(average_rewards)  # Greedy action"
   ]
  },
  {
   "cell_type": "code",
   "execution_count": 21,
   "id": "17580934",
   "metadata": {},
   "outputs": [
    {
     "name": "stdout",
     "output_type": "stream",
     "text": [
      "Average reward for bandits in iteration 0 is ['0.00', '0.00', '0.00', '0.00', '0.00']\n",
      "Average reward for bandits in iteration 100 is ['0.16', '0.67', '0.00', '0.49', '0.00']\n",
      "Average reward for bandits in iteration 200 is ['0.16', '0.45', '0.00', '0.53', '0.33']\n",
      "Average reward for bandits in iteration 300 is ['0.15', '0.45', '0.00', '0.54', '0.33']\n",
      "Average reward for bandits in iteration 400 is ['0.15', '0.46', '0.00', '0.56', '0.17']\n",
      "Average reward for bandits in iteration 500 is ['0.15', '0.43', '0.08', '0.55', '0.12']\n",
      "Average reward for bandits in iteration 600 is ['0.16', '0.40', '0.13', '0.56', '0.11']\n",
      "Average reward for bandits in iteration 700 is ['0.16', '0.38', '0.13', '0.54', '0.11']\n",
      "Average reward for bandits in iteration 800 is ['0.16', '0.32', '0.12', '0.54', '0.17']\n",
      "Average reward for bandits in iteration 900 is ['0.17', '0.38', '0.10', '0.55', '0.19']\n",
      "Average reward for bandits in iteration 1000 is ['0.16', '0.33', '0.08', '0.55', '0.18']\n",
      "\n",
      "Best bandit is 3 with an average observed reward of 0.5547\n",
      "Total observed reward in the 1000 episodes has been 509\n"
     ]
    }
   ],
   "source": [
    "# Probability of success of each bandit\n",
    "bandits = [0.1, 0.3, 0.05, 0.55, 0.4]\n",
    "num_iterations = 1000\n",
    "epsilon = 0.1\n",
    "\n",
    "# Store info to know which one is the best action in each moment\n",
    "total_rewards = [0 for _ in range(len(bandits))]\n",
    "total_attempts = [0 for _ in range(len(bandits))]\n",
    "average_rewards = [0.0 for _ in range(len(bandits))]\n",
    "\n",
    "for iteration in range(num_iterations+1):\n",
    "  action = take_epsilon_greedy_action(epsilon, average_rewards)\n",
    "  reward = pull_bandit_arm(bandits, action)\n",
    "  \n",
    "  # Store result\n",
    "  total_rewards[action] += reward\n",
    "  total_attempts[action] += 1\n",
    "  average_rewards[action] = total_rewards[action] / float(total_attempts[action])\n",
    "  \n",
    "  if iteration % 100 == 0:\n",
    "    print('Average reward for bandits in iteration {} is {}'.format(iteration,\n",
    "                                  ['{:.2f}'.format(elem) for elem in average_rewards]))\n",
    "\n",
    "# Print results\n",
    "best_bandit = np.argmax(average_rewards)\n",
    "print('\\nBest bandit is {} with an average observed reward of {:.4f}'\n",
    "      .format(best_bandit, average_rewards[best_bandit]))\n",
    "print('Total observed reward in the {} episodes has been {}'\n",
    "      .format(num_iterations, sum(total_rewards)))"
   ]
  }
 ],
 "metadata": {
  "kernelspec": {
   "display_name": "Python 3 (ipykernel)",
   "language": "python",
   "name": "python3"
  },
  "language_info": {
   "codemirror_mode": {
    "name": "ipython",
    "version": 3
   },
   "file_extension": ".py",
   "mimetype": "text/x-python",
   "name": "python",
   "nbconvert_exporter": "python",
   "pygments_lexer": "ipython3",
   "version": "3.11.4"
  }
 },
 "nbformat": 4,
 "nbformat_minor": 5
}
